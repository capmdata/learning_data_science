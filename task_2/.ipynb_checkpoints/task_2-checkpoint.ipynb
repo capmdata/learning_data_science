{
 "cells": [
  {
   "cell_type": "markdown",
   "id": "occasional-saturday",
   "metadata": {},
   "source": [
    "# Task 2\n",
    "\n",
    "## complete 15 tasks about numpy arrays \n",
    "\n",
    "### *tasks in Lithuanian :( \n",
    "\n",
    "Import most important library"
   ]
  },
  {
   "cell_type": "code",
   "execution_count": 31,
   "id": "strategic-prerequisite",
   "metadata": {},
   "outputs": [],
   "source": [
    "import numpy as np"
   ]
  },
  {
   "cell_type": "markdown",
   "id": "early-confirmation",
   "metadata": {},
   "source": [
    "1. Sukurkite vektorių su skaičiais nuo 1 iki 10"
   ]
  },
  {
   "cell_type": "code",
   "execution_count": 32,
   "id": "bored-explanation",
   "metadata": {},
   "outputs": [
    {
     "data": {
      "text/plain": [
       "array([ 1,  2,  3,  4,  5,  6,  7,  8,  9, 10])"
      ]
     },
     "execution_count": 32,
     "metadata": {},
     "output_type": "execute_result"
    }
   ],
   "source": [
    "np.arange(1, 11)"
   ]
  },
  {
   "cell_type": "markdown",
   "id": "vanilla-evaluation",
   "metadata": {},
   "source": [
    "2. Sukurkite vektorių iš 10 nulių"
   ]
  },
  {
   "cell_type": "code",
   "execution_count": 33,
   "id": "sticky-admission",
   "metadata": {},
   "outputs": [
    {
     "data": {
      "text/plain": [
       "array([0., 0., 0., 0., 0., 0., 0., 0., 0., 0.])"
      ]
     },
     "execution_count": 33,
     "metadata": {},
     "output_type": "execute_result"
    }
   ],
   "source": [
    "np.zeros(10)"
   ]
  },
  {
   "cell_type": "markdown",
   "id": "fuzzy-medium",
   "metadata": {},
   "source": [
    "3. Sukurkite vektorių iš 10 vienetų"
   ]
  },
  {
   "cell_type": "code",
   "execution_count": 34,
   "id": "partial-capital",
   "metadata": {},
   "outputs": [
    {
     "data": {
      "text/plain": [
       "array([1., 1., 1., 1., 1., 1., 1., 1., 1., 1.])"
      ]
     },
     "execution_count": 34,
     "metadata": {},
     "output_type": "execute_result"
    }
   ],
   "source": [
    "np.ones(10)"
   ]
  },
  {
   "cell_type": "markdown",
   "id": "civil-reconstruction",
   "metadata": {},
   "source": [
    "4. Sukurkite vektorių iš 10 ketvertų "
   ]
  },
  {
   "cell_type": "code",
   "execution_count": 35,
   "id": "animated-cotton",
   "metadata": {},
   "outputs": [
    {
     "data": {
      "text/plain": [
       "array([4, 4, 4, 4, 4, 4, 4, 4, 4, 4])"
      ]
     },
     "execution_count": 35,
     "metadata": {},
     "output_type": "execute_result"
    }
   ],
   "source": [
    "np.full(10,4)"
   ]
  },
  {
   "cell_type": "markdown",
   "id": "dangerous-citizen",
   "metadata": {},
   "source": [
    "5. Sukurkite vektorių iš lyginių skaičių nuo 0 iki 100"
   ]
  },
  {
   "cell_type": "code",
   "execution_count": 36,
   "id": "czech-algeria",
   "metadata": {},
   "outputs": [
    {
     "data": {
      "text/plain": [
       "array([  0,   2,   4,   6,   8,  10,  12,  14,  16,  18,  20,  22,  24,\n",
       "        26,  28,  30,  32,  34,  36,  38,  40,  42,  44,  46,  48,  50,\n",
       "        52,  54,  56,  58,  60,  62,  64,  66,  68,  70,  72,  74,  76,\n",
       "        78,  80,  82,  84,  86,  88,  90,  92,  94,  96,  98, 100])"
      ]
     },
     "execution_count": 36,
     "metadata": {},
     "output_type": "execute_result"
    }
   ],
   "source": [
    "np.arange(0,101,2)"
   ]
  },
  {
   "cell_type": "markdown",
   "id": "controversial-electron",
   "metadata": {},
   "source": [
    "6. Sukurkite matricą iš 25 narių, pradedant 1, baigiant 25. Priskirkite ją kintamajam."
   ]
  },
  {
   "cell_type": "code",
   "execution_count": 37,
   "id": "parallel-harvard",
   "metadata": {},
   "outputs": [
    {
     "data": {
      "text/plain": [
       "array([[ 1,  2,  3,  4,  5],\n",
       "       [ 6,  7,  8,  9, 10],\n",
       "       [11, 12, 13, 14, 15],\n",
       "       [16, 17, 18, 19, 20],\n",
       "       [21, 22, 23, 24, 25]])"
      ]
     },
     "execution_count": 37,
     "metadata": {},
     "output_type": "execute_result"
    }
   ],
   "source": [
    "arr = np.array([[1,2,3,4,5],[6,7,8,9,10],[11,12,13,14,15],[16,17,18,19,20],[21,22,23,24,25]])\n",
    "arr"
   ]
  },
  {
   "cell_type": "markdown",
   "id": "transsexual-anthony",
   "metadata": {},
   "source": [
    "7. Iš matricos ištraukite skaičių 12"
   ]
  },
  {
   "cell_type": "code",
   "execution_count": 38,
   "id": "middle-conjunction",
   "metadata": {},
   "outputs": [
    {
     "data": {
      "text/plain": [
       "12"
      ]
     },
     "execution_count": 38,
     "metadata": {},
     "output_type": "execute_result"
    }
   ],
   "source": [
    "arr[2,1]"
   ]
  },
  {
   "cell_type": "markdown",
   "id": "motivated-domain",
   "metadata": {},
   "source": [
    "8. Iš matricos ištraukite paskutinę eilutę."
   ]
  },
  {
   "cell_type": "code",
   "execution_count": 39,
   "id": "becoming-relation",
   "metadata": {},
   "outputs": [
    {
     "data": {
      "text/plain": [
       "array([21, 22, 23, 24, 25])"
      ]
     },
     "execution_count": 39,
     "metadata": {},
     "output_type": "execute_result"
    }
   ],
   "source": [
    "arr[4]"
   ]
  },
  {
   "cell_type": "markdown",
   "id": "hungarian-toyota",
   "metadata": {},
   "source": [
    "9. Iš matricos ištraukite submatricą:\n",
    "\n",
    "1, 2, 3\\ 6, 7, 8\\ 11,12,13"
   ]
  },
  {
   "cell_type": "code",
   "execution_count": 53,
   "id": "phantom-glenn",
   "metadata": {},
   "outputs": [
    {
     "data": {
      "text/plain": [
       "array([[ 1,  2,  3],\n",
       "       [ 6,  7,  8],\n",
       "       [11, 12, 13]])"
      ]
     },
     "execution_count": 53,
     "metadata": {},
     "output_type": "execute_result"
    }
   ],
   "source": [
    "np.array([arr[0,0:3], arr[1,0:3], arr[2,0:3]])"
   ]
  },
  {
   "cell_type": "markdown",
   "id": "proved-strand",
   "metadata": {},
   "source": [
    "10. Iš matricos ištraukite submatricą:\n",
    "\n",
    "7, 8, 9, 10\\ 12, 13, 14, 15\\ 17, 18, 19, 20"
   ]
  },
  {
   "cell_type": "code",
   "execution_count": 54,
   "id": "younger-ceramic",
   "metadata": {},
   "outputs": [
    {
     "data": {
      "text/plain": [
       "array([[ 7,  8,  9, 10],\n",
       "       [12, 13, 14, 15],\n",
       "       [17, 18, 19, 20]])"
      ]
     },
     "execution_count": 54,
     "metadata": {},
     "output_type": "execute_result"
    }
   ],
   "source": [
    "np.array([arr[1,1:], arr[2,1:], arr[3,1:]])"
   ]
  },
  {
   "cell_type": "markdown",
   "id": "controlling-pixel",
   "metadata": {},
   "source": [
    "11. Iš matricos ištraukite submatricą:\n",
    "\n",
    "16, 17, 18\n",
    "\n",
    "21, 22, 23 "
   ]
  },
  {
   "cell_type": "code",
   "execution_count": 56,
   "id": "medieval-aurora",
   "metadata": {},
   "outputs": [
    {
     "data": {
      "text/plain": [
       "array([[16, 17, 18],\n",
       "       [21, 22, 23]])"
      ]
     },
     "execution_count": 56,
     "metadata": {},
     "output_type": "execute_result"
    }
   ],
   "source": [
    "np.array([arr[3,0:3], arr[4,0:3]])"
   ]
  },
  {
   "cell_type": "markdown",
   "id": "third-procedure",
   "metadata": {},
   "source": [
    "12. Sukurkite vektorių iš 20 atsitiktinių reikšmių nuo 0 iki 1. Priskirkite kintamajam. "
   ]
  },
  {
   "cell_type": "code",
   "execution_count": 62,
   "id": "negative-mission",
   "metadata": {},
   "outputs": [
    {
     "data": {
      "text/plain": [
       "array([0.77199525, 0.94984764, 0.51643326, 0.58347405, 0.17525111,\n",
       "       0.22360673, 0.70181115, 0.51017389, 0.66746003, 0.0039141 ,\n",
       "       0.41461048, 0.87070341, 0.70514955, 0.19392664, 0.34064563,\n",
       "       0.70995176, 0.85588038, 0.37105678, 0.31801563, 0.38260648])"
      ]
     },
     "execution_count": 62,
     "metadata": {},
     "output_type": "execute_result"
    }
   ],
   "source": [
    "arr_rand = np.random.rand(20)\n",
    "arr_rand"
   ]
  },
  {
   "cell_type": "markdown",
   "id": "juvenile-angle",
   "metadata": {},
   "source": [
    "13. Suraskite didžiausią reikšmę masyve ir jos indeksą. (naudoti max() ir .argmax())"
   ]
  },
  {
   "cell_type": "code",
   "execution_count": 72,
   "id": "balanced-marine",
   "metadata": {},
   "outputs": [
    {
     "data": {
      "text/plain": [
       "'index=1, max_value=0.9498476423368649'"
      ]
     },
     "execution_count": 72,
     "metadata": {},
     "output_type": "execute_result"
    }
   ],
   "source": [
    "f'index={np.argmax(arr_rand)}, max_value={np.max(arr_rand)}'"
   ]
  },
  {
   "cell_type": "markdown",
   "id": "nominated-enzyme",
   "metadata": {},
   "source": [
    "14. Suraskite mažiausią reikšmę ir jos indeksą. (naudoti min() ir .argmin())"
   ]
  },
  {
   "cell_type": "code",
   "execution_count": 73,
   "id": "unauthorized-windsor",
   "metadata": {},
   "outputs": [
    {
     "data": {
      "text/plain": [
       "'index=9, min_value=0.003914104695732057'"
      ]
     },
     "execution_count": 73,
     "metadata": {},
     "output_type": "execute_result"
    }
   ],
   "source": [
    "f'index={np.argmin(arr_rand)}, min_value={np.min(arr_rand)}'"
   ]
  },
  {
   "cell_type": "markdown",
   "id": "settled-expansion",
   "metadata": {},
   "source": [
    "15. Atspausdinkite šios matricos duomenų tipą "
   ]
  },
  {
   "cell_type": "code",
   "execution_count": 74,
   "id": "confirmed-airfare",
   "metadata": {},
   "outputs": [
    {
     "data": {
      "text/plain": [
       "dtype('float64')"
      ]
     },
     "execution_count": 74,
     "metadata": {},
     "output_type": "execute_result"
    }
   ],
   "source": [
    "arr_rand.dtype"
   ]
  },
  {
   "cell_type": "markdown",
   "id": "statutory-toyota",
   "metadata": {},
   "source": [
    "# :) "
   ]
  }
 ],
 "metadata": {
  "kernelspec": {
   "display_name": "Python 3 (ipykernel)",
   "language": "python",
   "name": "python3"
  },
  "language_info": {
   "codemirror_mode": {
    "name": "ipython",
    "version": 3
   },
   "file_extension": ".py",
   "mimetype": "text/x-python",
   "name": "python",
   "nbconvert_exporter": "python",
   "pygments_lexer": "ipython3",
   "version": "3.9.7"
  }
 },
 "nbformat": 4,
 "nbformat_minor": 5
}
