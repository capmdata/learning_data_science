{
 "cells": [
  {
   "cell_type": "markdown",
   "id": "4933d6c9",
   "metadata": {},
   "source": [
    "Užduotys.\n",
    "\n",
    "Pirmo lygio.\n",
    "\n",
    "1. Konvertuokite skaitinių reikšmių sąrašą į vienmatį NumPy masyvą.\n",
    "\n",
    "Original List: [12.23, 13.32, 100, 36.32] \n",
    "\n",
    "One-dimensional NumPy array: [ 12.23 13.32 100. 36.32]\n",
    "\n",
    "2. Sukurkite 10 dydžio nulinį vektorių ir atnaujinkite šeštąją reikšmę iki 11.\n",
    "\n",
    "3. Sukurkite masyvą, kurio reikšmės svyruoja nuo 12 iki 38.\n",
    "\n",
    "4. Sukurkite 3x3 matricą, kurios reikšmės svyruoja nuo 2 iki 10.\n",
    "\n",
    "5. Sukurti vektorių ir apverskite jį keliais būdais (pirmasis elementas tampa paskutiniu).\n",
    "\n",
    "6. Sukurkite 3x3 matricą, kurios įstrižainė yra vienetai, o visi kiti elementai yra nuliai.\n",
    "\n",
    "7. Sukurkite 3x3x3 masyvą su atsitiktinėmis reikšmėmis.\n",
    "\n",
    "8. Sukurkite 10x10 masyvą su atsitiktinėmis reikšmėmis ir suraskite mažiausią ir didžiausią reikšmes.\n",
    "\n",
    "9. Sukurkite atsitiktinį 30 dydžio vektorių ir raskite vidutinę reikšmę.\n",
    "\n",
    "10. Sukurkite 10x10 matricą, kurioje elementai ant kraštinių bus lygūs 1, o viduje 0.\n",
    "\n",
    "11. Sukurkite 10 ilgio vektorių, kurio reikšmės būtų tolygiai paskirstytos tarp 5 ir 50.\n",
    "\n",
    "12. Sukurkite vektorių, kurių reikšmės svyruoja nuo 15 iki 55, ir atspausdinkite visas reikšmes, išskyrus pirmąją ir paskutinę.\n",
    "\n",
    "13. Sugeneruokite atsitiktinį skaičių masyve nuo 0 iki 1.\n",
    "\n",
    "14. Pridėkite reikšmes prie masyvo pabaigos.\n",
    "\n",
    "Original array: [10, 20, 30] \n",
    "\n",
    "After appending values to the end of the array: [10 20 30 40 50 60 70 80 90]\n",
    "\n",
    "15. Sukurkite tuščią masyvą ir užpildykite masyvą šešetai"
   ]
  },
  {
   "cell_type": "code",
   "execution_count": 2,
   "id": "518ab29d",
   "metadata": {},
   "outputs": [],
   "source": [
    "import numpy as np"
   ]
  },
  {
   "cell_type": "markdown",
   "id": "c7acad91",
   "metadata": {},
   "source": [
    "#### 1. Konvertuokite skaitinių reikšmių sąrašą į vienmatį NumPy masyvą.\n"
   ]
  },
  {
   "cell_type": "code",
   "execution_count": 3,
   "id": "1851474b",
   "metadata": {},
   "outputs": [
    {
     "name": "stdout",
     "output_type": "stream",
     "text": [
      "[ 12.23  13.32 100.    36.32]\n"
     ]
    }
   ],
   "source": [
    "list = [12.23, 13.32, 100, 36.32]\n",
    "arr = np.array(list)\n",
    "\n",
    "print(arr)"
   ]
  },
  {
   "cell_type": "markdown",
   "id": "92fd4e74",
   "metadata": {},
   "source": [
    "#### 2. Sukurkite 10 dydžio nulinį vektorių ir atnaujinkite šeštąją reikšmę iki 11.\n"
   ]
  },
  {
   "cell_type": "code",
   "execution_count": 4,
   "id": "1a8bb2ca",
   "metadata": {},
   "outputs": [
    {
     "data": {
      "text/plain": [
       "array([ 0.,  0.,  0.,  0.,  0.,  0., 11.,  0.,  0.,  0.])"
      ]
     },
     "execution_count": 4,
     "metadata": {},
     "output_type": "execute_result"
    }
   ],
   "source": [
    "arr = np.zeros(10)\n",
    "arr[6] = 11\n",
    "arr"
   ]
  },
  {
   "cell_type": "markdown",
   "id": "39b45f4f",
   "metadata": {},
   "source": [
    "#### 3. Sukurkite masyvą, kurio reikšmės svyruoja nuo 12 iki 38"
   ]
  },
  {
   "cell_type": "code",
   "execution_count": 5,
   "id": "65d59fb9",
   "metadata": {},
   "outputs": [
    {
     "data": {
      "text/plain": [
       "array([12, 13, 14, 15, 16, 17, 18, 19, 20, 21, 22, 23, 24, 25, 26, 27, 28,\n",
       "       29, 30, 31, 32, 33, 34, 35, 36, 37, 38])"
      ]
     },
     "execution_count": 5,
     "metadata": {},
     "output_type": "execute_result"
    }
   ],
   "source": [
    "arr = np.arange(12 , 39)\n",
    "arr"
   ]
  },
  {
   "cell_type": "markdown",
   "id": "e5c86ecf",
   "metadata": {},
   "source": [
    "#### 4. Sukurkite 3x3 matricą, kurios reikšmės svyruoja nuo 2 iki 10."
   ]
  },
  {
   "cell_type": "code",
   "execution_count": 6,
   "id": "de1e2e7e",
   "metadata": {},
   "outputs": [
    {
     "data": {
      "text/plain": [
       "array([[ 2,  3,  4],\n",
       "       [ 5,  6,  7],\n",
       "       [ 8,  9, 10]])"
      ]
     },
     "execution_count": 6,
     "metadata": {},
     "output_type": "execute_result"
    }
   ],
   "source": [
    "matrix = np.arange(2,11).reshape(3,3)\n",
    "matrix"
   ]
  },
  {
   "cell_type": "markdown",
   "id": "9c081976",
   "metadata": {},
   "source": [
    "#### 5. Sukurti vektorių ir apverskite jį keliais būdais (pirmasis elementas tampa paskutiniu)"
   ]
  },
  {
   "cell_type": "code",
   "execution_count": 7,
   "id": "adb65c9a",
   "metadata": {},
   "outputs": [
    {
     "data": {
      "text/plain": [
       "array([20, 19, 18, 17, 16, 15, 14, 13, 12, 11, 10])"
      ]
     },
     "execution_count": 7,
     "metadata": {},
     "output_type": "execute_result"
    }
   ],
   "source": [
    "vector = np.arange(10, 21)\n",
    "vector[::-1]"
   ]
  },
  {
   "cell_type": "code",
   "execution_count": 8,
   "id": "422b1d48",
   "metadata": {},
   "outputs": [
    {
     "data": {
      "text/plain": [
       "array([20, 19, 18, 17, 16, 15, 14, 13, 12, 11, 10])"
      ]
     },
     "execution_count": 8,
     "metadata": {},
     "output_type": "execute_result"
    }
   ],
   "source": [
    "np.sort(vector)[::-1]"
   ]
  },
  {
   "cell_type": "markdown",
   "id": "8d975ce1",
   "metadata": {},
   "source": [
    "#### 6. Sukurkite 3x3 matricą, kurios įstrižainė yra vienetai, o visi kiti elementai yra nuliai."
   ]
  },
  {
   "cell_type": "code",
   "execution_count": 9,
   "id": "138523af",
   "metadata": {},
   "outputs": [
    {
     "data": {
      "text/plain": [
       "array([[1., 0., 0.],\n",
       "       [0., 1., 0.],\n",
       "       [0., 0., 1.]])"
      ]
     },
     "execution_count": 9,
     "metadata": {},
     "output_type": "execute_result"
    }
   ],
   "source": [
    "arr = np.zeros((3,3))\n",
    "np.fill_diagonal(arr, 1)\n",
    "arr"
   ]
  },
  {
   "cell_type": "markdown",
   "id": "academic-diabetes",
   "metadata": {},
   "source": [
    "#### 7. Sukurkite 3x3x3 masyvą su atsitiktinėmis reikšmėmis."
   ]
  },
  {
   "cell_type": "code",
   "execution_count": 13,
   "id": "lovely-commitment",
   "metadata": {},
   "outputs": [
    {
     "data": {
      "text/plain": [
       "array([[[0.47855276, 0.03693539, 0.28986483],\n",
       "        [0.08656579, 0.68189222, 0.62823481],\n",
       "        [0.15444638, 0.83702309, 0.80481918]],\n",
       "\n",
       "       [[0.92694122, 0.73446096, 0.566764  ],\n",
       "        [0.59268556, 0.35383389, 0.8342747 ],\n",
       "        [0.04362199, 0.2217944 , 0.91186768]],\n",
       "\n",
       "       [[0.60765306, 0.72377998, 0.88835826],\n",
       "        [0.89509909, 0.33400505, 0.36327067],\n",
       "        [0.14803924, 0.57459149, 0.36415077]]])"
      ]
     },
     "execution_count": 13,
     "metadata": {},
     "output_type": "execute_result"
    }
   ],
   "source": [
    "arr = np.random.random((3,3,3))\n",
    "arr"
   ]
  },
  {
   "cell_type": "markdown",
   "id": "domestic-fairy",
   "metadata": {},
   "source": [
    "#### 8. Sukurkite 10x10 masyvą su atsitiktinėmis reikšmėmis ir suraskite mažiausią ir didžiausią reikšmes."
   ]
  },
  {
   "cell_type": "code",
   "execution_count": 19,
   "id": "threatened-wisconsin",
   "metadata": {},
   "outputs": [
    {
     "data": {
      "text/plain": [
       "array([[ 0, 28, 22, 45, 42, 47, 92, 87, 69, 49],\n",
       "       [46, 70, 62, 24, 78, 93, 78, 69, 50, 33],\n",
       "       [ 9, 94, 61, 87, 94,  6, 21, 64, 33, 54],\n",
       "       [59, 78, 57, 25, 82, 48, 79, 79, 45, 37],\n",
       "       [91, 90, 88, 25, 64, 48, 22, 84, 29, 43],\n",
       "       [ 1, 39, 17, 78, 42, 91, 54, 91,  6, 64],\n",
       "       [54, 25,  9,  5, 73, 86, 91, 74,  3, 31],\n",
       "       [41, 94, 72, 99, 87, 43, 74, 94, 15, 58],\n",
       "       [88,  3, 88, 65,  4, 74, 78, 94,  5, 15],\n",
       "       [69, 61, 36, 36, 36, 98, 37, 13, 35, 48]])"
      ]
     },
     "execution_count": 19,
     "metadata": {},
     "output_type": "execute_result"
    }
   ],
   "source": [
    "arr = np.random.randint(100, size=(10,10))\n",
    "arr"
   ]
  },
  {
   "cell_type": "code",
   "execution_count": 20,
   "id": "direct-photography",
   "metadata": {},
   "outputs": [
    {
     "name": "stdout",
     "output_type": "stream",
     "text": [
      "max_value = 99\n",
      "min_value = 0\n"
     ]
    }
   ],
   "source": [
    "print(f'max_value = {np.max(arr)}\\nmin_value = {np.min(arr)}')"
   ]
  },
  {
   "cell_type": "markdown",
   "id": "eight-sheffield",
   "metadata": {},
   "source": [
    "#### 9. Sukurkite atsitiktinį 30 dydžio vektorių ir raskite vidutinę reikšmę."
   ]
  },
  {
   "cell_type": "code",
   "execution_count": 24,
   "id": "retired-python",
   "metadata": {},
   "outputs": [
    {
     "data": {
      "text/plain": [
       "array([12, 20, 19, 15, 15,  9, 17, 14,  3,  8,  0, 18,  0,  8, 29,  9, 29,\n",
       "       21, 20, 14,  4, 26, 28, 29, 18,  2, 24, 27, 23, 26])"
      ]
     },
     "execution_count": 24,
     "metadata": {},
     "output_type": "execute_result"
    }
   ],
   "source": [
    "arr = np.random.randint(30,size=(30,))\n",
    "arr"
   ]
  },
  {
   "cell_type": "code",
   "execution_count": 25,
   "id": "amended-arabic",
   "metadata": {},
   "outputs": [
    {
     "name": "stdout",
     "output_type": "stream",
     "text": [
      "avg_value = 16.233333333333334\n"
     ]
    }
   ],
   "source": [
    "print(f'avg_value = {np.average(arr)}')"
   ]
  },
  {
   "cell_type": "markdown",
   "id": "extra-likelihood",
   "metadata": {},
   "source": [
    "#### 10. Sukurkite 10x10 matricą, kurioje elementai ant kraštinių bus lygūs 1, o viduje 0."
   ]
  },
  {
   "cell_type": "code",
   "execution_count": 31,
   "id": "institutional-governor",
   "metadata": {},
   "outputs": [
    {
     "data": {
      "text/plain": [
       "array([[0., 0., 0., 0., 0., 0., 0., 0., 0., 0.],\n",
       "       [0., 0., 0., 0., 0., 0., 0., 0., 0., 0.],\n",
       "       [0., 0., 0., 0., 0., 0., 0., 0., 0., 0.],\n",
       "       [0., 0., 0., 0., 0., 0., 0., 0., 0., 0.],\n",
       "       [0., 0., 0., 0., 0., 0., 0., 0., 0., 0.],\n",
       "       [0., 0., 0., 0., 0., 0., 0., 0., 0., 0.],\n",
       "       [0., 0., 0., 0., 0., 0., 0., 0., 0., 0.],\n",
       "       [0., 0., 0., 0., 0., 0., 0., 0., 0., 0.],\n",
       "       [0., 0., 0., 0., 0., 0., 0., 0., 0., 0.],\n",
       "       [0., 0., 0., 0., 0., 0., 0., 0., 0., 0.]])"
      ]
     },
     "execution_count": 31,
     "metadata": {},
     "output_type": "execute_result"
    }
   ],
   "source": [
    "arr = np.zeros(100).reshape(10,10)\n",
    "arr"
   ]
  },
  {
   "cell_type": "code",
   "execution_count": 33,
   "id": "cooperative-chair",
   "metadata": {},
   "outputs": [
    {
     "data": {
      "text/plain": [
       "array([[1., 1., 1., 1., 1., 1., 1., 1., 1., 1.],\n",
       "       [1., 0., 0., 0., 0., 0., 0., 0., 0., 1.],\n",
       "       [1., 0., 0., 0., 0., 0., 0., 0., 0., 1.],\n",
       "       [1., 0., 0., 0., 0., 0., 0., 0., 0., 1.],\n",
       "       [1., 0., 0., 0., 0., 0., 0., 0., 0., 1.],\n",
       "       [1., 0., 0., 0., 0., 0., 0., 0., 0., 1.],\n",
       "       [1., 0., 0., 0., 0., 0., 0., 0., 0., 1.],\n",
       "       [1., 0., 0., 0., 0., 0., 0., 0., 0., 1.],\n",
       "       [1., 0., 0., 0., 0., 0., 0., 0., 0., 1.],\n",
       "       [1., 1., 1., 1., 1., 1., 1., 1., 1., 1.]])"
      ]
     },
     "execution_count": 33,
     "metadata": {},
     "output_type": "execute_result"
    }
   ],
   "source": [
    "arr[0,:10] = 1\n",
    "arr[0:, 0] = 1\n",
    "arr[9, :10] = 1\n",
    "arr[0:, 9] = 1\n",
    "arr"
   ]
  },
  {
   "cell_type": "markdown",
   "id": "popular-emperor",
   "metadata": {},
   "source": [
    "#### 11. Sukurkite 10 ilgio vektorių, kurio reikšmės būtų tolygiai paskirstytos tarp 5 ir 50."
   ]
  },
  {
   "cell_type": "code",
   "execution_count": 44,
   "id": "progressive-finnish",
   "metadata": {},
   "outputs": [
    {
     "data": {
      "text/plain": [
       "array([ 5., 10., 15., 20., 25., 30., 35., 40., 45., 50.])"
      ]
     },
     "execution_count": 44,
     "metadata": {},
     "output_type": "execute_result"
    }
   ],
   "source": [
    "# arr = np.arange(5,51,5)\n",
    "arr = np.linspace(5,50,10)\n",
    "arr"
   ]
  },
  {
   "cell_type": "markdown",
   "id": "adopted-flood",
   "metadata": {},
   "source": [
    "#### 12. Sukurkite vektorių, kurių reikšmės svyruoja nuo 15 iki 55, ir atspausdinkite visas reikšmes, išskyrus pirmąją ir paskutinę."
   ]
  },
  {
   "cell_type": "code",
   "execution_count": 46,
   "id": "expired-omaha",
   "metadata": {},
   "outputs": [
    {
     "data": {
      "text/plain": [
       "array([15., 25., 35., 45., 55.])"
      ]
     },
     "execution_count": 46,
     "metadata": {},
     "output_type": "execute_result"
    }
   ],
   "source": [
    "arr = np.linspace(15,55,5)\n",
    "arr"
   ]
  },
  {
   "cell_type": "code",
   "execution_count": 47,
   "id": "negative-slide",
   "metadata": {},
   "outputs": [
    {
     "data": {
      "text/plain": [
       "array([25., 35., 45.])"
      ]
     },
     "execution_count": 47,
     "metadata": {},
     "output_type": "execute_result"
    }
   ],
   "source": [
    "arr[1:-1]"
   ]
  },
  {
   "cell_type": "markdown",
   "id": "basic-result",
   "metadata": {},
   "source": [
    "#### 13. Sugeneruokite atsitiktinį skaičių masyve nuo 0 iki 1."
   ]
  },
  {
   "cell_type": "code",
   "execution_count": 48,
   "id": "portuguese-grove",
   "metadata": {},
   "outputs": [
    {
     "data": {
      "text/plain": [
       "array([0.38819699])"
      ]
     },
     "execution_count": 48,
     "metadata": {},
     "output_type": "execute_result"
    }
   ],
   "source": [
    "arr = np.random.random(1)\n",
    "arr"
   ]
  },
  {
   "cell_type": "markdown",
   "id": "thousand-alias",
   "metadata": {},
   "source": [
    "#### 14. Pridėkite reikšmes prie masyvo pabaigos\n",
    "\n",
    "Original array: [10, 20, 30] \n",
    "\n",
    "After appending values to the end of the array: [10 20 30 40 50 60 70 80 90]\n",
    "\n"
   ]
  },
  {
   "cell_type": "code",
   "execution_count": 50,
   "id": "italian-amount",
   "metadata": {},
   "outputs": [
    {
     "data": {
      "text/plain": [
       "array([10, 20, 30, 40, 50, 60, 70, 80, 90])"
      ]
     },
     "execution_count": 50,
     "metadata": {},
     "output_type": "execute_result"
    }
   ],
   "source": [
    "arr = np.array([10,20,30])\n",
    "arr2 = np.append(arr,[40,50,60,70,80,90])\n",
    "arr2"
   ]
  },
  {
   "cell_type": "markdown",
   "id": "agreed-hierarchy",
   "metadata": {},
   "source": [
    "#### 15. Sukurkite tuščią masyvą ir užpildykite masyvą šešetais"
   ]
  },
  {
   "cell_type": "code",
   "execution_count": 115,
   "id": "short-wrestling",
   "metadata": {},
   "outputs": [
    {
     "data": {
      "text/plain": [
       "array([[6., 6.],\n",
       "       [6., 6.]])"
      ]
     },
     "execution_count": 115,
     "metadata": {},
     "output_type": "execute_result"
    }
   ],
   "source": [
    "arr = np.empty((2, 2))\n",
    "arr.fill(6)\n",
    "arr"
   ]
  },
  {
   "cell_type": "markdown",
   "id": "aging-perspective",
   "metadata": {},
   "source": [
    "Antro lygio.\n",
    "\n",
    "1. Sukurkite 8x8 matricą ir užpildykite ją šaškių lentos raštu (vienetukais ir nuliukais).\n",
    "\n",
    "2. Sukurkite vektorių. Raskite masyvo elementų skaičių, vieno masyvo elemento ilgį baitais (itemsize) ir bendrai elementų sunaudotus baitus.\n",
    "\n",
    "3. Sugeneruokite atsitiktinių skaičių masyvą iš standartinio normalaus skirstinio (standard normal distribution). Naudokite random.normal metodą. Apskaičiuokite masyvo vidurkį.\n",
    "\n",
    "4. Atlikite tą patį 3 užduoties procesą 1000 kartų ir sudėkite jų rezultatus į array. Paskaičiuokite jo vidurkį.\n",
    "\n",
    "5. Sukurkite 4x4 matricą, kurioje 0 ir 1 yra išdėstyti laipsniškai, o pagrindinėje įstrižainėje yra nuliai.\n",
    "\n",
    "6. Sukurkite 5x5 matricą su eilučių reikšmėmis nuo 0 iki 4.\n",
    "\n",
    "7. Konvertuokite float32 masyvą į int32.\n",
    "\n",
    "8. Ar įmanoma naudojant np.arange metodą gauti visas 2022 birželio mėnesio datas?\n",
    "\n",
    "9. Sukurkite atsitiktinį 10 dydžio vektorių ir surūšiuokite jį. Atvaizduokite didžiausia ir mažiausią reikšmes nenaudojant min ir max metodų."
   ]
  },
  {
   "cell_type": "markdown",
   "id": "bored-merchant",
   "metadata": {},
   "source": [
    "#### 3. Sugeneruokite atsitiktinių skaičių masyvą iš standartinio normalaus skirstinio (standard normal distribution). Naudokite random.normal metodą. Apskaičiuokite masyvo vidurkį"
   ]
  },
  {
   "cell_type": "code",
   "execution_count": 95,
   "id": "therapeutic-wyoming",
   "metadata": {},
   "outputs": [
    {
     "name": "stdout",
     "output_type": "stream",
     "text": [
      "average:3.4089478407071536\n"
     ]
    }
   ],
   "source": [
    "arr = np.random.normal(3, 10, size=(1000,))\n",
    "print(f'average:{np.average(arr)}')"
   ]
  },
  {
   "cell_type": "markdown",
   "id": "weekly-liberty",
   "metadata": {},
   "source": [
    "#### 8. Ar įmanoma naudojant np.arange metodą gauti visas 2022 birželio mėnesio datas?\n"
   ]
  },
  {
   "cell_type": "code",
   "execution_count": 106,
   "id": "inappropriate-lease",
   "metadata": {},
   "outputs": [
    {
     "data": {
      "text/plain": [
       "array(['2022-06-01', '2022-06-02', '2022-06-03', '2022-06-04',\n",
       "       '2022-06-05', '2022-06-06', '2022-06-07', '2022-06-08',\n",
       "       '2022-06-09', '2022-06-10', '2022-06-11', '2022-06-12',\n",
       "       '2022-06-13', '2022-06-14', '2022-06-15', '2022-06-16',\n",
       "       '2022-06-17', '2022-06-18', '2022-06-19', '2022-06-20',\n",
       "       '2022-06-21', '2022-06-22', '2022-06-23', '2022-06-24',\n",
       "       '2022-06-25', '2022-06-26', '2022-06-27', '2022-06-28',\n",
       "       '2022-06-29', '2022-06-30'], dtype='datetime64[D]')"
      ]
     },
     "execution_count": 106,
     "metadata": {},
     "output_type": "execute_result"
    }
   ],
   "source": [
    "arr = np.arange('2022-06', '2022-07', dtype='datetime64[D]')\n",
    "arr"
   ]
  },
  {
   "cell_type": "markdown",
   "id": "authentic-layout",
   "metadata": {},
   "source": [
    "#### 9. Sukurkite atsitiktinį 10 dydžio vektorių ir surūšiuokite jį. Atvaizduokite didžiausia ir mažiausią reikšmes nenaudojant min ir max metodų."
   ]
  },
  {
   "cell_type": "code",
   "execution_count": 114,
   "id": "registered-luxury",
   "metadata": {},
   "outputs": [
    {
     "name": "stdout",
     "output_type": "stream",
     "text": [
      "array: [34 81 67 70 38 54 47 86  7 78]\n",
      "min value:7\n",
      "max value:86\n"
     ]
    }
   ],
   "source": [
    "arr = np.random.randint(100,size=(10,))\n",
    "print(f'array: {arr}\\nmin value:{np.sort(arr)[0]}\\nmax value:{np.sort(arr)[-1]}')"
   ]
  },
  {
   "cell_type": "code",
   "execution_count": null,
   "id": "modified-father",
   "metadata": {},
   "outputs": [],
   "source": []
  }
 ],
 "metadata": {
  "kernelspec": {
   "display_name": "Python 3 (ipykernel)",
   "language": "python",
   "name": "python3"
  },
  "language_info": {
   "codemirror_mode": {
    "name": "ipython",
    "version": 3
   },
   "file_extension": ".py",
   "mimetype": "text/x-python",
   "name": "python",
   "nbconvert_exporter": "python",
   "pygments_lexer": "ipython3",
   "version": "3.9.7"
  }
 },
 "nbformat": 4,
 "nbformat_minor": 5
}
