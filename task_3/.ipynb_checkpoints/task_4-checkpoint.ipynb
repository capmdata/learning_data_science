{
 "cells": [
  {
   "cell_type": "markdown",
   "id": "assigned-regard",
   "metadata": {},
   "source": [
    "Užduotys.\n",
    "\n",
    "1. Sukurkite vektorių ir matricą ir juos sudėkite, atimkite, sudauginkite ir padalinkite.\n",
    "\n",
    "2. Sukurkite 5x5 matricą ir raskite jos didžiausią ir mažiausią reikšmes.\n",
    "\n",
    "3. Pagal 2 užduoties matricą, suraskite didžiausias ir mažiausias kiekvienos eilutės reikšmes. Paskaičiuokite jų vidurkių skirtumą. (Kad skaičius būtų teigiamas, naudoti galite absolute metodą).\n",
    "\n",
    "4. Apskaičiuokite 3x3x3 masyvo medianą (naudokite metodą median) ir palyginkite ją su vidurkiu.\n",
    "\n",
    "5. Statistikos studento A egzaminų rezultatai yra 9,9,7,8,9,10,5,9. Kurso kreditai yra pasiskirstę tokia tvarka: 3,3,6,3,6,3,6,6. Paskaičiuokite studento A kurso vidurkį.\n",
    "\n",
    "6. Sukurkite matricas 3x4 ir 4x3. Pabandykite jas sudauginti naudojant visus žinomus perkėlimo metodus."
   ]
  },
  {
   "cell_type": "code",
   "execution_count": 3,
   "id": "affecting-equality",
   "metadata": {},
   "outputs": [],
   "source": [
    "import numpy as np"
   ]
  },
  {
   "cell_type": "markdown",
   "id": "organic-shift",
   "metadata": {},
   "source": [
    "#### 1. Sukurkite vektorių ir matricą ir juos sudėkite, atimkite, sudauginkite ir padalinkite.\n"
   ]
  },
  {
   "cell_type": "code",
   "execution_count": 4,
   "id": "progressive-burner",
   "metadata": {
    "scrolled": false
   },
   "outputs": [],
   "source": [
    "vector = np.array([1,2])\n",
    "matrix = np.array([[3,4],[5,6]])"
   ]
  },
  {
   "cell_type": "code",
   "execution_count": 5,
   "id": "dedicated-kansas",
   "metadata": {},
   "outputs": [
    {
     "name": "stdout",
     "output_type": "stream",
     "text": [
      "sum of vector and matrix\n",
      "[[4 6]\n",
      " [6 8]]\n",
      "\n",
      "substraction of vector and matrix\n",
      "[[-2 -2]\n",
      " [-4 -4]]\n",
      "\n",
      "multiply of vector and matrix\n",
      "[[ 3  8]\n",
      " [ 5 12]]\n",
      "\n",
      "division of vector and matrix\n",
      "[[0.33333333 0.5       ]\n",
      " [0.2        0.33333333]]\n",
      "\n"
     ]
    }
   ],
   "source": [
    "print(f'sum of vector and matrix\\n{np.add(vector,matrix)}\\n')\n",
    "\n",
    "print(f'substraction of vector and matrix\\n{np.subtract(vector,matrix)}\\n')\n",
    "\n",
    "print(f'multiply of vector and matrix\\n{np.multiply(vector,matrix)}\\n')\n",
    "\n",
    "print(f'division of vector and matrix\\n{np.divide(vector,matrix)}\\n')\n"
   ]
  },
  {
   "cell_type": "markdown",
   "id": "impressive-belle",
   "metadata": {},
   "source": [
    "#### 2. Sukurkite 5x5 matricą ir raskite jos didžiausią ir mažiausią reikšmes.\n"
   ]
  },
  {
   "cell_type": "code",
   "execution_count": 6,
   "id": "warming-parcel",
   "metadata": {},
   "outputs": [
    {
     "data": {
      "text/plain": [
       "array([[0.56338633, 0.70593635, 0.09692012, 0.15804634, 0.87527024],\n",
       "       [0.62472701, 0.21631576, 0.68209078, 0.83944572, 0.53460728],\n",
       "       [0.99743788, 0.02940334, 0.30729948, 0.52598683, 0.15853626],\n",
       "       [0.65194655, 0.36274805, 0.41458329, 0.35910383, 0.86278654],\n",
       "       [0.2612535 , 0.23375769, 0.49540075, 0.16237031, 0.87896064]])"
      ]
     },
     "execution_count": 6,
     "metadata": {},
     "output_type": "execute_result"
    }
   ],
   "source": [
    "matrix = np.array(np.random.rand(25)).reshape(5,5)\n",
    "matrix"
   ]
  },
  {
   "cell_type": "code",
   "execution_count": 7,
   "id": "owned-memorabilia",
   "metadata": {},
   "outputs": [
    {
     "name": "stdout",
     "output_type": "stream",
     "text": [
      "max_value = 0.9974378764005206\n",
      "min_value = 0.029403337103743543\n"
     ]
    }
   ],
   "source": [
    "print(f'max_value = {np.max(matrix)}\\nmin_value = {np.min(matrix)}')"
   ]
  },
  {
   "cell_type": "markdown",
   "id": "bigger-faith",
   "metadata": {},
   "source": [
    "#### 3. Pagal 2 užduoties matricą, suraskite didžiausias ir mažiausias kiekvienos eilutės reikšmes. Paskaičiuokite jų vidurkių skirtumą. (Kad skaičius būtų teigiamas, naudoti galite absolute metodą)."
   ]
  },
  {
   "cell_type": "code",
   "execution_count": 8,
   "id": "furnished-appeal",
   "metadata": {},
   "outputs": [
    {
     "data": {
      "text/plain": [
       "array([0.87527024, 0.83944572, 0.99743788, 0.86278654, 0.87896064])"
      ]
     },
     "execution_count": 8,
     "metadata": {},
     "output_type": "execute_result"
    }
   ],
   "source": [
    "max_of_each_row = matrix.max(axis=1)\n",
    "max_of_each_row"
   ]
  },
  {
   "cell_type": "code",
   "execution_count": 9,
   "id": "stone-associate",
   "metadata": {},
   "outputs": [
    {
     "data": {
      "text/plain": [
       "array([0.09692012, 0.21631576, 0.02940334, 0.35910383, 0.16237031])"
      ]
     },
     "execution_count": 9,
     "metadata": {},
     "output_type": "execute_result"
    }
   ],
   "source": [
    "min_of_each_row = matrix.min(axis=1)\n",
    "min_of_each_row"
   ]
  },
  {
   "cell_type": "code",
   "execution_count": 10,
   "id": "front-arizona",
   "metadata": {},
   "outputs": [
    {
     "data": {
      "text/plain": [
       "0.7179575295316345"
      ]
     },
     "execution_count": 10,
     "metadata": {},
     "output_type": "execute_result"
    }
   ],
   "source": [
    "np.average(max_of_each_row)-np.average(min_of_each_row)"
   ]
  },
  {
   "cell_type": "markdown",
   "id": "qualified-madonna",
   "metadata": {},
   "source": [
    "#### 4. Apskaičiuokite 3x3x3 masyvo medianą (naudokite metodą median) ir palyginkite ją su vidurkiu."
   ]
  },
  {
   "cell_type": "code",
   "execution_count": 11,
   "id": "seventh-rwanda",
   "metadata": {},
   "outputs": [
    {
     "data": {
      "text/plain": [
       "array([[[0.80516416, 0.50515236, 0.66480629],\n",
       "        [0.15604275, 0.52847158, 0.37998973],\n",
       "        [0.46212119, 0.49009835, 0.28857676]],\n",
       "\n",
       "       [[0.69406848, 0.46899466, 0.26414932],\n",
       "        [0.67427659, 0.95845011, 0.60705281],\n",
       "        [0.73722515, 0.10150945, 0.62213396]],\n",
       "\n",
       "       [[0.3182714 , 0.88361733, 0.22787645],\n",
       "        [0.25430298, 0.50626535, 0.18835914],\n",
       "        [0.61059583, 0.82571458, 0.09981029]]])"
      ]
     },
     "execution_count": 11,
     "metadata": {},
     "output_type": "execute_result"
    }
   ],
   "source": [
    "arr = np.random.random((3,3,3))\n",
    "arr"
   ]
  },
  {
   "cell_type": "code",
   "execution_count": 12,
   "id": "generous-processing",
   "metadata": {},
   "outputs": [
    {
     "data": {
      "text/plain": [
       "0.5051523630339233"
      ]
     },
     "execution_count": 12,
     "metadata": {},
     "output_type": "execute_result"
    }
   ],
   "source": [
    "arr_median = np.median(arr)\n",
    "arr_median"
   ]
  },
  {
   "cell_type": "code",
   "execution_count": 13,
   "id": "collect-shark",
   "metadata": {},
   "outputs": [
    {
     "data": {
      "text/plain": [
       "0.49344803818894867"
      ]
     },
     "execution_count": 13,
     "metadata": {},
     "output_type": "execute_result"
    }
   ],
   "source": [
    "arr_avg = np.average(arr)\n",
    "arr_avg"
   ]
  },
  {
   "cell_type": "markdown",
   "id": "digital-bride",
   "metadata": {},
   "source": [
    "is median higher than average?"
   ]
  },
  {
   "cell_type": "code",
   "execution_count": 31,
   "id": "authorized-three",
   "metadata": {},
   "outputs": [
    {
     "data": {
      "text/plain": [
       "True"
      ]
     },
     "execution_count": 31,
     "metadata": {},
     "output_type": "execute_result"
    }
   ],
   "source": [
    "arr_median > arr_avg"
   ]
  },
  {
   "cell_type": "markdown",
   "id": "falling-premises",
   "metadata": {},
   "source": [
    "#### 5. Statistikos studento A egzaminų rezultatai yra 9,9,7,8,9,10,5,9. Kurso kreditai yra pasiskirstę tokia tvarka: 3,3,6,3,6,3,6,6. Paskaičiuokite studento A kurso vidurkį."
   ]
  },
  {
   "cell_type": "code",
   "execution_count": 32,
   "id": "desperate-georgia",
   "metadata": {},
   "outputs": [],
   "source": [
    "results = np.array([9,9,7,8,9,10,5,9])\n",
    "weights = np.array([3,3,6,3,6,3,6,6])"
   ]
  },
  {
   "cell_type": "code",
   "execution_count": 33,
   "id": "sorted-component",
   "metadata": {},
   "outputs": [
    {
     "data": {
      "text/plain": [
       "8.0"
      ]
     },
     "execution_count": 33,
     "metadata": {},
     "output_type": "execute_result"
    }
   ],
   "source": [
    "np.average(results,weights = weights)"
   ]
  },
  {
   "cell_type": "markdown",
   "id": "bridal-enzyme",
   "metadata": {},
   "source": [
    "#### 6. Sukurkite matricas 3x4 ir 4x3. Pabandykite jas sudauginti naudojant visus žinomus perkėlimo metodus."
   ]
  },
  {
   "cell_type": "code",
   "execution_count": 27,
   "id": "monthly-sense",
   "metadata": {},
   "outputs": [
    {
     "name": "stdout",
     "output_type": "stream",
     "text": [
      "[[ 0  1  2  3]\n",
      " [ 4  5  6  7]\n",
      " [ 8  9 10 11]]\n",
      "[[ 0  1  2]\n",
      " [ 3  4  5]\n",
      " [ 6  7  8]\n",
      " [ 9 10 11]]\n"
     ]
    }
   ],
   "source": [
    "arr1 = np.arange(3*4).reshape(3,4)\n",
    "arr2 = np.arange(4*3).reshape(4,3)\n",
    "print(arr1)\n",
    "print(arr2)"
   ]
  },
  {
   "cell_type": "code",
   "execution_count": 43,
   "id": "uniform-timber",
   "metadata": {},
   "outputs": [
    {
     "data": {
      "text/plain": [
       "array([[  0,   3,  12,  27],\n",
       "       [  4,  20,  42,  70],\n",
       "       [ 16,  45,  80, 121]])"
      ]
     },
     "execution_count": 43,
     "metadata": {},
     "output_type": "execute_result"
    }
   ],
   "source": [
    "arr1*arr2.T"
   ]
  },
  {
   "cell_type": "code",
   "execution_count": 44,
   "id": "coordinated-partnership",
   "metadata": {},
   "outputs": [
    {
     "data": {
      "text/plain": [
       "array([[  0,   4,  16],\n",
       "       [  3,  20,  45],\n",
       "       [ 12,  42,  80],\n",
       "       [ 27,  70, 121]])"
      ]
     },
     "execution_count": 44,
     "metadata": {},
     "output_type": "execute_result"
    }
   ],
   "source": [
    "np.swapaxes(arr1,0,1)*arr2"
   ]
  },
  {
   "cell_type": "code",
   "execution_count": 46,
   "id": "vanilla-hamburg",
   "metadata": {},
   "outputs": [
    {
     "data": {
      "text/plain": [
       "array([[  0,   4,  16],\n",
       "       [  3,  20,  45],\n",
       "       [ 12,  42,  80],\n",
       "       [ 27,  70, 121]])"
      ]
     },
     "execution_count": 46,
     "metadata": {},
     "output_type": "execute_result"
    }
   ],
   "source": [
    "np.moveaxis(arr1,0,1)*arr2"
   ]
  },
  {
   "cell_type": "code",
   "execution_count": null,
   "id": "informational-circuit",
   "metadata": {},
   "outputs": [],
   "source": []
  }
 ],
 "metadata": {
  "kernelspec": {
   "display_name": "Python 3 (ipykernel)",
   "language": "python",
   "name": "python3"
  },
  "language_info": {
   "codemirror_mode": {
    "name": "ipython",
    "version": 3
   },
   "file_extension": ".py",
   "mimetype": "text/x-python",
   "name": "python",
   "nbconvert_exporter": "python",
   "pygments_lexer": "ipython3",
   "version": "3.9.7"
  }
 },
 "nbformat": 4,
 "nbformat_minor": 5
}
