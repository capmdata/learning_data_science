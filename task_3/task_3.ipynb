{
 "cells": [
  {
   "cell_type": "markdown",
   "id": "4933d6c9",
   "metadata": {},
   "source": [
    "Užduotys.\n",
    "\n",
    "Pirmo lygio.\n",
    "\n",
    "1. Konvertuokite skaitinių reikšmių sąrašą į vienmatį NumPy masyvą.\n",
    "\n",
    "Original List: [12.23, 13.32, 100, 36.32] \n",
    "\n",
    "One-dimensional NumPy array: [ 12.23 13.32 100. 36.32]\n",
    "\n",
    "2. Sukurkite 10 dydžio nulinį vektorių ir atnaujinkite šeštąją reikšmę iki 11.\n",
    "\n",
    "3. Sukurkite masyvą, kurio reikšmės svyruoja nuo 12 iki 38.\n",
    "\n",
    "4. Sukurkite 3x3 matricą, kurios reikšmės svyruoja nuo 2 iki 10.\n",
    "\n",
    "5. Sukurti vektorių ir apverskite jį keliais būdais (pirmasis elementas tampa paskutiniu).\n",
    "\n",
    "6. Sukurkite 3x3 matricą, kurios įstrižainė yra vienetai, o visi kiti elementai yra nuliai.\n",
    "\n",
    "7. Sukurkite 3x3x3 masyvą su atsitiktinėmis reikšmėmis.\n",
    "\n",
    "8. Sukurkite 10x10 masyvą su atsitiktinėmis reikšmėmis ir suraskite mažiausią ir didžiausią reikšmes.\n",
    "\n",
    "9. Sukurkite atsitiktinį 30 dydžio vektorių ir raskite vidutinę reikšmę.\n",
    "\n",
    "10. Sukurkite 10x10 matricą, kurioje elementai ant kraštinių bus lygūs 1, o viduje 0.\n",
    "\n",
    "11. Sukurkite 10 ilgio vektorių, kurio reikšmės būtų tolygiai paskirstytos tarp 5 ir 50.\n",
    "\n",
    "12. Sukurkite vektorių, kurių reikšmės svyruoja nuo 15 iki 55, ir atspausdinkite visas reikšmes, išskyrus pirmąją ir paskutinę.\n",
    "\n",
    "13. Sugeneruokite atsitiktinį skaičių masyve nuo 0 iki 1.\n",
    "\n",
    "14. Pridėkite reikšmes prie masyvo pabaigos.\n",
    "\n",
    "Original array: [10, 20, 30] \n",
    "\n",
    "After appending values to the end of the array: [10 20 30 40 50 60 70 80 90]\n",
    "\n",
    "15. Sukurkite tuščią masyvą ir užpildykite masyvą šešetai"
   ]
  },
  {
   "cell_type": "code",
   "execution_count": 1,
   "id": "518ab29d",
   "metadata": {},
   "outputs": [],
   "source": [
    "import numpy as np"
   ]
  },
  {
   "cell_type": "markdown",
   "id": "c7acad91",
   "metadata": {},
   "source": [
    "#### 1. Konvertuokite skaitinių reikšmių sąrašą į vienmatį NumPy masyvą.\n"
   ]
  },
  {
   "cell_type": "code",
   "execution_count": 5,
   "id": "1851474b",
   "metadata": {},
   "outputs": [
    {
     "name": "stdout",
     "output_type": "stream",
     "text": [
      "[ 12.23  13.32 100.    36.32]\n"
     ]
    }
   ],
   "source": [
    "list = [12.23, 13.32, 100, 36.32]\n",
    "arr = np.array(list)\n",
    "\n",
    "print(arr)"
   ]
  },
  {
   "cell_type": "markdown",
   "id": "92fd4e74",
   "metadata": {},
   "source": [
    "#### 2. Sukurkite 10 dydžio nulinį vektorių ir atnaujinkite šeštąją reikšmę iki 11.\n"
   ]
  },
  {
   "cell_type": "code",
   "execution_count": 6,
   "id": "1a8bb2ca",
   "metadata": {},
   "outputs": [
    {
     "data": {
      "text/plain": [
       "array([ 0.,  0.,  0.,  0.,  0.,  0., 11.,  0.,  0.,  0.])"
      ]
     },
     "execution_count": 6,
     "metadata": {},
     "output_type": "execute_result"
    }
   ],
   "source": [
    "arr = np.zeros(10)\n",
    "arr[6] = 11\n",
    "arr"
   ]
  },
  {
   "cell_type": "markdown",
   "id": "39b45f4f",
   "metadata": {},
   "source": [
    "#### 3. Sukurkite masyvą, kurio reikšmės svyruoja nuo 12 iki 38"
   ]
  },
  {
   "cell_type": "code",
   "execution_count": 8,
   "id": "65d59fb9",
   "metadata": {},
   "outputs": [
    {
     "data": {
      "text/plain": [
       "array([12, 13, 14, 15, 16, 17, 18, 19, 20, 21, 22, 23, 24, 25, 26, 27, 28,\n",
       "       29, 30, 31, 32, 33, 34, 35, 36, 37, 38])"
      ]
     },
     "execution_count": 8,
     "metadata": {},
     "output_type": "execute_result"
    }
   ],
   "source": [
    "arr = np.arange(12 , 39)\n",
    "arr"
   ]
  },
  {
   "cell_type": "markdown",
   "id": "e5c86ecf",
   "metadata": {},
   "source": [
    "#### 4. Sukurkite 3x3 matricą, kurios reikšmės svyruoja nuo 2 iki 10."
   ]
  },
  {
   "cell_type": "code",
   "execution_count": 9,
   "id": "de1e2e7e",
   "metadata": {},
   "outputs": [
    {
     "data": {
      "text/plain": [
       "array([[ 2,  3,  4],\n",
       "       [ 5,  6,  7],\n",
       "       [ 8,  9, 10]])"
      ]
     },
     "execution_count": 9,
     "metadata": {},
     "output_type": "execute_result"
    }
   ],
   "source": [
    "matrix = np.arange(2,11).reshape(3,3)\n",
    "matrix"
   ]
  },
  {
   "cell_type": "markdown",
   "id": "9c081976",
   "metadata": {},
   "source": [
    "#### 5. Sukurti vektorių ir apverskite jį keliais būdais (pirmasis elementas tampa paskutiniu)"
   ]
  },
  {
   "cell_type": "code",
   "execution_count": 17,
   "id": "adb65c9a",
   "metadata": {},
   "outputs": [
    {
     "data": {
      "text/plain": [
       "array([20, 19, 18, 17, 16, 15, 14, 13, 12, 11, 10])"
      ]
     },
     "execution_count": 17,
     "metadata": {},
     "output_type": "execute_result"
    }
   ],
   "source": [
    "vector = np.arange(10, 21)\n",
    "vector[::-1]"
   ]
  },
  {
   "cell_type": "code",
   "execution_count": 16,
   "id": "422b1d48",
   "metadata": {},
   "outputs": [
    {
     "data": {
      "text/plain": [
       "array([20, 19, 18, 17, 16, 15, 14, 13, 12, 11, 10])"
      ]
     },
     "execution_count": 16,
     "metadata": {},
     "output_type": "execute_result"
    }
   ],
   "source": [
    "np.sort(vector)[::-1]"
   ]
  },
  {
   "cell_type": "markdown",
   "id": "8d975ce1",
   "metadata": {},
   "source": [
    "#### 6. Sukurkite 3x3 matricą, kurios įstrižainė yra vienetai, o visi kiti elementai yra nuliai."
   ]
  },
  {
   "cell_type": "code",
   "execution_count": null,
   "id": "138523af",
   "metadata": {},
   "outputs": [],
   "source": []
  }
 ],
 "metadata": {
  "kernelspec": {
   "display_name": "Python 3 (ipykernel)",
   "language": "python",
   "name": "python3"
  },
  "language_info": {
   "codemirror_mode": {
    "name": "ipython",
    "version": 3
   },
   "file_extension": ".py",
   "mimetype": "text/x-python",
   "name": "python",
   "nbconvert_exporter": "python",
   "pygments_lexer": "ipython3",
   "version": "3.9.5"
  }
 },
 "nbformat": 4,
 "nbformat_minor": 5
}
