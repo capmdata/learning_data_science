{
 "cells": [
  {
   "cell_type": "markdown",
   "id": "assigned-regard",
   "metadata": {},
   "source": [
    "Užduotys.\n",
    "\n",
    "1. Sukurkite vektorių ir matricą ir juos sudėkite, atimkite, sudauginkite ir padalinkite.\n",
    "\n",
    "2. Sukurkite 5x5 matricą ir raskite jos didžiausią ir mažiausią reikšmes.\n",
    "\n",
    "3. Pagal 2 užduoties matricą, suraskite didžiausias ir mažiausias kiekvienos eilutės reikšmes. Paskaičiuokite jų vidurkių skirtumą. (Kad skaičius būtų teigiamas, naudoti galite absolute metodą).\n",
    "\n",
    "4. Apskaičiuokite 3x3x3 masyvo medianą (naudokite metodą median) ir palyginkite ją su vidurkiu.\n",
    "\n",
    "5. Statistikos studento A egzaminų rezultatai yra 9,9,7,8,9,10,5,9. Kurso kreditai yra pasiskirstę tokia tvarka: 3,3,6,3,6,3,6,6. Paskaičiuokite studento A kurso vidurkį.\n",
    "\n",
    "6. Sukurkite matricas 3x4 ir 4x3. Pabandykite jas sudauginti naudojant visus žinomus perkėlimo metodus."
   ]
  },
  {
   "cell_type": "code",
   "execution_count": 3,
   "id": "affecting-equality",
   "metadata": {},
   "outputs": [],
   "source": [
    "import numpy as np"
   ]
  },
  {
   "cell_type": "markdown",
   "id": "organic-shift",
   "metadata": {},
   "source": [
    "#### 1. Sukurkite vektorių ir matricą ir juos sudėkite, atimkite, sudauginkite ir padalinkite.\n"
   ]
  },
  {
   "cell_type": "code",
   "execution_count": 13,
   "id": "progressive-burner",
   "metadata": {
    "scrolled": false
   },
   "outputs": [],
   "source": [
    "vector = np.array([1,2])\n",
    "matrix = np.array([[3,4],[5,6]])"
   ]
  },
  {
   "cell_type": "code",
   "execution_count": 31,
   "id": "dedicated-kansas",
   "metadata": {},
   "outputs": [
    {
     "name": "stdout",
     "output_type": "stream",
     "text": [
      "sum of vector and matrix\n",
      "[[4 6]\n",
      " [6 8]]\n",
      "\n",
      "substraction of vector and matrix\n",
      "[[-2 -2]\n",
      " [-4 -4]]\n",
      "\n",
      "multiply of vector and matrix\n",
      "[[ 3  8]\n",
      " [ 5 12]]\n",
      "\n",
      "division of vector and matrix\n",
      "[[0.33333333 0.5       ]\n",
      " [0.2        0.33333333]]\n",
      "\n"
     ]
    }
   ],
   "source": [
    "print(f'sum of vector and matrix\\n{np.add(vector,matrix)}\\n')\n",
    "\n",
    "print(f'substraction of vector and matrix\\n{np.subtract(vector,matrix)}\\n')\n",
    "\n",
    "print(f'multiply of vector and matrix\\n{np.multiply(vector,matrix)}\\n')\n",
    "\n",
    "print(f'division of vector and matrix\\n{np.divide(vector,matrix)}\\n')\n"
   ]
  },
  {
   "cell_type": "markdown",
   "id": "impressive-belle",
   "metadata": {},
   "source": [
    "#### 2. Sukurkite 5x5 matricą ir raskite jos didžiausią ir mažiausią reikšmes.\n"
   ]
  },
  {
   "cell_type": "code",
   "execution_count": 44,
   "id": "warming-parcel",
   "metadata": {},
   "outputs": [
    {
     "data": {
      "text/plain": [
       "array([[0.68879264, 0.17483392, 0.51160713, 0.52909129, 0.16088258],\n",
       "       [0.13661717, 0.77045105, 0.96981657, 0.23209894, 0.70660331],\n",
       "       [0.20071517, 0.00174544, 0.82481272, 0.45344732, 0.19429865],\n",
       "       [0.89857341, 0.14714123, 0.29242571, 0.39075168, 0.62870601],\n",
       "       [0.19775989, 0.2393388 , 0.22034365, 0.68472445, 0.65924748]])"
      ]
     },
     "execution_count": 44,
     "metadata": {},
     "output_type": "execute_result"
    }
   ],
   "source": [
    "matrix = np.array(np.random.rand(25)).reshape(5,5)\n",
    "matrix"
   ]
  },
  {
   "cell_type": "code",
   "execution_count": 42,
   "id": "owned-memorabilia",
   "metadata": {},
   "outputs": [
    {
     "name": "stdout",
     "output_type": "stream",
     "text": [
      "max_value = 0.974056193706842\n",
      "min_value = 0.04122020556600314\n"
     ]
    }
   ],
   "source": [
    "print(f'max_value = {np.max(matrix)}\\nmin_value = {np.min(matrix)}')"
   ]
  },
  {
   "cell_type": "markdown",
   "id": "bigger-faith",
   "metadata": {},
   "source": [
    "#### 3. Pagal 2 užduoties matricą, suraskite didžiausias ir mažiausias kiekvienos eilutės reikšmes. Paskaičiuokite jų vidurkių skirtumą. (Kad skaičius būtų teigiamas, naudoti galite absolute metodą)."
   ]
  },
  {
   "cell_type": "code",
   "execution_count": 53,
   "id": "furnished-appeal",
   "metadata": {},
   "outputs": [
    {
     "data": {
      "text/plain": [
       "array([0.68879264, 0.96981657, 0.82481272, 0.89857341, 0.68472445])"
      ]
     },
     "execution_count": 53,
     "metadata": {},
     "output_type": "execute_result"
    }
   ],
   "source": [
    "max_of_each_row = matrix.max(axis=1)\n",
    "max_of_each_row"
   ]
  },
  {
   "cell_type": "code",
   "execution_count": 54,
   "id": "stone-associate",
   "metadata": {},
   "outputs": [
    {
     "data": {
      "text/plain": [
       "array([0.16088258, 0.13661717, 0.00174544, 0.14714123, 0.19775989])"
      ]
     },
     "execution_count": 54,
     "metadata": {},
     "output_type": "execute_result"
    }
   ],
   "source": [
    "min_of_each_row = matrix.min(axis=1)\n",
    "min_of_each_row"
   ]
  },
  {
   "cell_type": "code",
   "execution_count": 56,
   "id": "front-arizona",
   "metadata": {},
   "outputs": [
    {
     "data": {
      "text/plain": [
       "0.6845146972534402"
      ]
     },
     "execution_count": 56,
     "metadata": {},
     "output_type": "execute_result"
    }
   ],
   "source": [
    "np.average(max_of_each_row)-np.average(min_of_each_row)"
   ]
  },
  {
   "cell_type": "markdown",
   "id": "qualified-madonna",
   "metadata": {},
   "source": [
    "#### 4. Apskaičiuokite 3x3x3 masyvo medianą (naudokite metodą median) ir palyginkite ją su vidurkiu."
   ]
  },
  {
   "cell_type": "code",
   "execution_count": 62,
   "id": "seventh-rwanda",
   "metadata": {},
   "outputs": [
    {
     "data": {
      "text/plain": [
       "array([[[0.96967466, 0.30055042, 0.60286392],\n",
       "        [0.73122218, 0.36756209, 0.20085532],\n",
       "        [0.61720836, 0.2402351 , 0.55275811]],\n",
       "\n",
       "       [[0.55422418, 0.95381983, 0.4310644 ],\n",
       "        [0.49071363, 0.21372964, 0.02684172],\n",
       "        [0.04711215, 0.42538938, 0.79923004]],\n",
       "\n",
       "       [[0.95029755, 0.75775744, 0.78880965],\n",
       "        [0.26004517, 0.19776786, 0.29315408],\n",
       "        [0.82589156, 0.56633971, 0.36796077]]])"
      ]
     },
     "execution_count": 62,
     "metadata": {},
     "output_type": "execute_result"
    }
   ],
   "source": [
    "arr = np.random.random((3,3,3))\n",
    "arr"
   ]
  },
  {
   "cell_type": "code",
   "execution_count": 64,
   "id": "generous-processing",
   "metadata": {},
   "outputs": [
    {
     "data": {
      "text/plain": [
       "0.49071362659797657"
      ]
     },
     "execution_count": 64,
     "metadata": {},
     "output_type": "execute_result"
    }
   ],
   "source": [
    "arr_median = np.median(arr)\n",
    "arr_median"
   ]
  },
  {
   "cell_type": "code",
   "execution_count": 70,
   "id": "collect-shark",
   "metadata": {},
   "outputs": [
    {
     "data": {
      "text/plain": [
       "0.5012251454109302"
      ]
     },
     "execution_count": 70,
     "metadata": {},
     "output_type": "execute_result"
    }
   ],
   "source": [
    "arr_avg = np.average(arr)\n",
    "arr_avg"
   ]
  },
  {
   "cell_type": "code",
   "execution_count": 69,
   "id": "authorized-three",
   "metadata": {},
   "outputs": [
    {
     "data": {
      "text/plain": [
       "False"
      ]
     },
     "execution_count": 69,
     "metadata": {},
     "output_type": "execute_result"
    }
   ],
   "source": [
    "arr_median > arr_avg"
   ]
  },
  {
   "cell_type": "markdown",
   "id": "digital-bride",
   "metadata": {},
   "source": [
    "##### Median of the 3x3x3 array is lower than the average"
   ]
  },
  {
   "cell_type": "markdown",
   "id": "falling-premises",
   "metadata": {},
   "source": [
    "#### 5. Statistikos studento A egzaminų rezultatai yra 9,9,7,8,9,10,5,9. Kurso kreditai yra pasiskirstę tokia tvarka: 3,3,6,3,6,3,6,6. Paskaičiuokite studento A kurso vidurkį."
   ]
  },
  {
   "cell_type": "code",
   "execution_count": 72,
   "id": "desperate-georgia",
   "metadata": {},
   "outputs": [],
   "source": [
    "results = np.array([9,9,7,8,9,10,5,9])\n",
    "weights = np.array([3,3,6,3,6,3,6,6])"
   ]
  },
  {
   "cell_type": "code",
   "execution_count": 74,
   "id": "sorted-component",
   "metadata": {},
   "outputs": [
    {
     "data": {
      "text/plain": [
       "8.0"
      ]
     },
     "execution_count": 74,
     "metadata": {},
     "output_type": "execute_result"
    }
   ],
   "source": [
    "np.average(results,weights = weights)"
   ]
  },
  {
   "cell_type": "code",
   "execution_count": null,
   "id": "speaking-mortality",
   "metadata": {},
   "outputs": [],
   "source": []
  }
 ],
 "metadata": {
  "kernelspec": {
   "display_name": "Python 3 (ipykernel)",
   "language": "python",
   "name": "python3"
  },
  "language_info": {
   "codemirror_mode": {
    "name": "ipython",
    "version": 3
   },
   "file_extension": ".py",
   "mimetype": "text/x-python",
   "name": "python",
   "nbconvert_exporter": "python",
   "pygments_lexer": "ipython3",
   "version": "3.9.5"
  }
 },
 "nbformat": 4,
 "nbformat_minor": 5
}
